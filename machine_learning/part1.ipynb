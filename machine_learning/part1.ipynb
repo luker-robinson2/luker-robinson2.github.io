{
 "cells": [
  {
   "cell_type": "code",
   "execution_count": 2,
   "metadata": {},
   "outputs": [
    {
     "name": "stderr",
     "output_type": "stream",
     "text": [
      "Scraping matches: 0it [00:00, ?it/s]\n"
     ]
    }
   ],
   "source": [
    "import requests\n",
    "from bs4 import BeautifulSoup\n",
    "import csv\n",
    "import time\n",
    "from tqdm import tqdm\n",
    "\n",
    "BASE = \"https://www.hltv.org\"\n",
    "HEADERS = {\"User-Agent\": \"Mozilla/5.0\"}\n",
    "\n",
    "def get_match_ids(pages=5):\n",
    "    ids = set()\n",
    "    for offset in range(0, pages * 100, 100):\n",
    "        url = f\"{BASE}/results?offset={offset}\"\n",
    "        r = requests.get(url, headers=HEADERS)\n",
    "        soup = BeautifulSoup(r.text, \"html.parser\")\n",
    "        for match in soup.select(\"a.result-con\"):\n",
    "            href = match.get(\"href\")\n",
    "            if href and \"/match/\" in href:\n",
    "                match_id = href.split(\"/\")[2]\n",
    "                ids.add(match_id)\n",
    "        time.sleep(1)\n",
    "    return list(ids)\n",
    "\n",
    "def fetch_match_data(match_id):\n",
    "    url = f\"{BASE}/match/{match_id}\"\n",
    "    r = requests.get(url, headers=HEADERS)\n",
    "    soup = BeautifulSoup(r.text, \"html.parser\")\n",
    "\n",
    "    # Example selectors — adjust as needed\n",
    "    teams = soup.select(\".teamName\")\n",
    "    team1 = teams[0].text.strip() if teams else None\n",
    "    team2 = teams[1].text.strip() if len(teams) > 1 else None\n",
    "\n",
    "    score = soup.select_one(\".match-info-box-score .bold\")\n",
    "    score = score.text.strip() if score else None\n",
    "\n",
    "    date = soup.select_one(\".match-info-box .time\")\n",
    "    date = date.text.strip() if date else None\n",
    "\n",
    "    # Collect player stats: KD, ADR, rating\n",
    "    players = []\n",
    "    for row in soup.select(\".stats-table tr\")[1:]:\n",
    "        cols = row.find_all(\"td\")\n",
    "        if len(cols) >= 7:\n",
    "            name = cols[0].text.strip()\n",
    "            kd = cols[1].text.strip()\n",
    "            adr = cols[4].text.strip()\n",
    "            rating = cols[6].text.strip()\n",
    "            players.append({\"name\": name, \"kd\": kd, \"adr\": adr, \"rating\": rating})\n",
    "\n",
    "    demo = soup.find(\"a\", string=\"Download demo\")\n",
    "    demo_link = BASE + demo['href'] if demo else None\n",
    "\n",
    "    return {\n",
    "        \"match_id\": match_id,\n",
    "        \"date\": date,\n",
    "        \"team1\": team1,\n",
    "        \"team2\": team2,\n",
    "        \"score\": score,\n",
    "        \"demo_url\": demo_link,\n",
    "        \"players\": players\n",
    "    }\n",
    "\n",
    "def scrape_and_save(pages=3, outfile=\"hltv_matches.csv\"):\n",
    "    ids = get_match_ids(pages)\n",
    "    all_data = []\n",
    "    for mid in tqdm(ids, desc=\"Scraping matches\"):\n",
    "        data = fetch_match_data(mid)\n",
    "        all_data.append(data)\n",
    "        time.sleep(1)\n",
    "\n",
    "    # Flatten for CSV: one row per player\n",
    "    with open(outfile, \"w\", newline=\"\", encoding=\"utf-8\") as f:\n",
    "        writer = csv.writer(f)\n",
    "        writer.writerow([\"match_id\", \"date\", \"team1\", \"team2\", \"score\", \"player\", \"kd\", \"adr\", \"rating\", \"demo_url\"])\n",
    "        for m in all_data:\n",
    "            for p in m[\"players\"]:\n",
    "                writer.writerow([\n",
    "                    m[\"match_id\"], m[\"date\"], m[\"team1\"], m[\"team2\"],\n",
    "                    m[\"score\"], p[\"name\"], p[\"kd\"], p[\"adr\"], p[\"rating\"],\n",
    "                    m[\"demo_url\"]\n",
    "                ])\n",
    "\n",
    "if __name__ == \"__main__\":\n",
    "    scrape_and_save(pages=3)"
   ]
  },
  {
   "cell_type": "code",
   "execution_count": 1,
   "metadata": {},
   "outputs": [
    {
     "ename": "FileNotFoundError",
     "evalue": "File not found: hltv_data/demos/123456.dem",
     "output_type": "error",
     "traceback": [
      "\u001b[31m---------------------------------------------------------------------------\u001b[39m",
      "\u001b[31mFileNotFoundError\u001b[39m                         Traceback (most recent call last)",
      "\u001b[36mCell\u001b[39m\u001b[36m \u001b[39m\u001b[32mIn[1]\u001b[39m\u001b[32m, line 5\u001b[39m\n\u001b[32m      2\u001b[39m \u001b[38;5;28;01mimport\u001b[39;00m\u001b[38;5;250m \u001b[39m\u001b[34;01mpandas\u001b[39;00m\u001b[38;5;250m \u001b[39m\u001b[38;5;28;01mas\u001b[39;00m\u001b[38;5;250m \u001b[39m\u001b[34;01mpd\u001b[39;00m\n\u001b[32m      4\u001b[39m demo_file = \u001b[33m\"\u001b[39m\u001b[33mhltv_data/demos/123456.dem\u001b[39m\u001b[33m\"\u001b[39m\n\u001b[32m----> \u001b[39m\u001b[32m5\u001b[39m demo = \u001b[43mDemo\u001b[49m\u001b[43m(\u001b[49m\u001b[43mdemo_file\u001b[49m\u001b[43m)\u001b[49m\n\u001b[32m      6\u001b[39m match = demo.parse()\n\u001b[32m      8\u001b[39m \u001b[38;5;66;03m# Example: extract rounds info\u001b[39;00m\n",
      "\u001b[36mFile \u001b[39m\u001b[32m~/Dropbox/school/.venv/lib/python3.13/site-packages/awpy/demo.py:132\u001b[39m, in \u001b[36mDemo.__init__\u001b[39m\u001b[34m(self, path, tickrate, inferno_duration, smoke_duration, verbose)\u001b[39m\n\u001b[32m    130\u001b[39m \u001b[38;5;28;01mif\u001b[39;00m \u001b[38;5;129;01mnot\u001b[39;00m \u001b[38;5;28mself\u001b[39m.path.exists():\n\u001b[32m    131\u001b[39m     file_not_found_error_msg = \u001b[33mf\u001b[39m\u001b[33m\"\u001b[39m\u001b[33mFile not found: \u001b[39m\u001b[38;5;132;01m{\u001b[39;00m\u001b[38;5;28mself\u001b[39m.path\u001b[38;5;132;01m}\u001b[39;00m\u001b[33m\"\u001b[39m\n\u001b[32m--> \u001b[39m\u001b[32m132\u001b[39m     \u001b[38;5;28;01mraise\u001b[39;00m \u001b[38;5;167;01mFileNotFoundError\u001b[39;00m(file_not_found_error_msg)\n\u001b[32m    134\u001b[39m \u001b[38;5;28mself\u001b[39m.parser = DemoParser(\u001b[38;5;28mstr\u001b[39m(\u001b[38;5;28mself\u001b[39m.path.absolute()))\n\u001b[32m    135\u001b[39m \u001b[38;5;28mself\u001b[39m.header = \u001b[38;5;28mself\u001b[39m.parse_header()\n",
      "\u001b[31mFileNotFoundError\u001b[39m: File not found: hltv_data/demos/123456.dem"
     ]
    }
   ],
   "source": [
    "from awpy import Demo\n",
    "import pandas as pd\n",
    "\n",
    "demo_file = \"hltv_data/demos/123456.dem\"\n",
    "demo = Demo(demo_file)\n",
    "match = demo.parse()\n",
    "\n",
    "# Example: extract rounds info\n",
    "rounds = match.rounds\n",
    "df = pd.DataFrame([{\n",
    "    \"round_num\": r.number,\n",
    "    \"winning_team\": r.winner,\n",
    "    \"bomb_planted\": r.bomb_planted\n",
    "} for r in rounds])\n",
    "\n",
    "df.to_csv(\"hltv_data/match_123456_rounds.csv\", index=False)"
   ]
  }
 ],
 "metadata": {
  "kernelspec": {
   "display_name": ".venv",
   "language": "python",
   "name": "python3"
  },
  "language_info": {
   "codemirror_mode": {
    "name": "ipython",
    "version": 3
   },
   "file_extension": ".py",
   "mimetype": "text/x-python",
   "name": "python",
   "nbconvert_exporter": "python",
   "pygments_lexer": "ipython3",
   "version": "3.13.2"
  }
 },
 "nbformat": 4,
 "nbformat_minor": 2
}
